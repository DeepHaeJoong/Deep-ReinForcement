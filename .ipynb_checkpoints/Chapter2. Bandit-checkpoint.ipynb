{
 "cells": [
  {
   "cell_type": "markdown",
   "metadata": {},
   "source": [
    "### Bandit Problem\n",
    "\n",
    "\n",
    "**상호 관계**에 바탕을 둔 강화학습의 프레임워크\n",
    "\n",
    "- Agent : 행위자\n",
    "- Action : 행위\n",
    "- Environment : World\n",
    "- State : 환경의 상태\n",
    "- Reward : 보상\n",
    "\n",
    "\n",
    "![Image of Yaktocat](https://mblogthumb-phinf.pstatic.net/MjAxNzEwMTZfMTc2/MDAxNTA4MTE5MzMzOTgx.5SwCUZzPqMUqDw3y_NuGFZbhNv7Yaby3DPn9GJLpckkg.jHIdTSJjmjvZnOp9FkGyyj-zdhTkKht6Okpi-2FJCzgg.PNG.linegamedev/1.png?type=w800)\n",
    "\n"
   ]
  },
  {
   "cell_type": "markdown",
   "metadata": {},
   "source": [
    "### 강화학습의 세가지 요소\n",
    "- 액션 의존성 : 각 액션은 다른 보상을 가져오게 됩니다.\n",
    "- 시간 의존성 : 보상은 시간이 지연되고 나서야 주어집니다.\n",
    "- 상태 의존성 : 어떤 액션에 대한 보상은 환경 상태에 좌우됩니다.\n",
    "\n",
    "우리가 최적의 Action을 선택하도록 보장하는 것, 이를 $정책^{Policy}$이라고 한다."
   ]
  },
  {
   "cell_type": "markdown",
   "metadata": {},
   "source": [
    "### Policy Gradient(정책 경사)\n",
    "\n",
    "비용을 수식으로 다음과 같이 표현\n",
    "\n",
    "$$\n",
    "Loss = - \\log(\\pi)* A\n",
    "$$\n",
    "\n",
    "$\\pi$ : Policy  \n",
    "$A$ : Advantage\n",
    "\n",
    "\n",
    "<img src=\"https://github.com/DeepHaeJoong/Deep-ReinForcement/blob/master/PNG/Bandit%20Problem.PNG?raw=true\" alt=\"drawing\" width=\"600\"/>"
   ]
  },
  {
   "cell_type": "markdown",
   "metadata": {},
   "source": [
    "### 환경은 상태를 가지지 않으며 Agent는 단순히 최선의 Action을 하도록 학습하면 된다."
   ]
  },
  {
   "cell_type": "code",
   "execution_count": 1,
   "metadata": {},
   "outputs": [],
   "source": [
    "import tensorflow as tf\n",
    "import tensorflow.contrib.slim as slim\n",
    "import numpy as np\n",
    "\n",
    "\n",
    "# 밴딧의 손잡이 목록을 작성한다.\n",
    "# 현재 손잡이 4(인덱스 3)가 가장 자주 양의 보상을 제공하도록 설정되어 있다.\n",
    "bandit_arms = [0.2, 0, -0.2, -1]\n",
    "num_arms = len(bandit_arms)\n",
    "\n",
    "\n",
    "def pullBandit(bandit):\n",
    "    # 랜덤한 값을 구한다.(-1 ~ +1)\n",
    "    result = np.random.randn(1)  \n",
    "    if result > bandit:\n",
    "        # 양의 보상을 반환 한다.\n",
    "        # pullBandit(-1)\n",
    "        return 1\n",
    "    else:\n",
    "        # 음의 보상을 반환 한다.\n",
    "        # pullBandit(1)\n",
    "        return -1"
   ]
  },
  {
   "cell_type": "markdown",
   "metadata": {},
   "source": [
    "### Agent\n",
    "\n",
    "각 벤딧 손잡이에 대한 일련의 값들로 구성되어 있음. 각 값은 해당 벤딧을 선택할 때 반환되는 보상의 추정값을 의미한다. 우리는 정책 경사 방법을 이용해, 선택된 액션에 대해 큰 보상을 받는 쪽으로 이동해나가며 에이전트를 업데이트."
   ]
  },
  {
   "cell_type": "code",
   "execution_count": 6,
   "metadata": {},
   "outputs": [],
   "source": [
    "tf.reset_default_graph()\n",
    "\n",
    "# 네트워크의 피드포워드 부분을 구현한다.\n",
    "weights = tf.Variable(tf.ones([num_arms])) # [1. 1. 1. 1.]\n",
    "output = tf.nn.softmax(weights)            # 선택될 확률 같도록 설정 -> [0.25 0.25 0.25 0.25]\n",
    "\n",
    "\n",
    "# 학습 과정을 구현\n",
    "# 보상과 선택된 액션을 네트워크에 피드해줌으로써 비용을 계산하고\n",
    "# 비용을 이용해 네트워크를 업데이트 한다.\n",
    "reward_holder = tf.placeholder(shape = [1], dtype = tf.float32)\n",
    "action_holder = tf.placeholder(shape = [1], dtype = tf.int32)\n",
    "\n",
    "\n",
    "responsible_output = tf.slice(output, action_holder, [1])  # (inpit, begin, size) -> 선택된 Action의 가중치\n",
    "loss = -(tf.log(responsible_output)*reward_holder)\n",
    "optimizer = tf.train.AdamOptimizer(learning_rate = 1e-3)\n",
    "update = optimizer.minimize(loss)"
   ]
  },
  {
   "cell_type": "code",
   "execution_count": 7,
   "metadata": {},
   "outputs": [
    {
     "ename": "RuntimeError",
     "evalue": "Attempted to use a closed Session.",
     "output_type": "error",
     "traceback": [
      "\u001b[1;31m---------------------------------------------------------------------------\u001b[0m",
      "\u001b[1;31mRuntimeError\u001b[0m                              Traceback (most recent call last)",
      "\u001b[1;32m<ipython-input-7-b4b6525836e0>\u001b[0m in \u001b[0;36m<module>\u001b[1;34m\u001b[0m\n\u001b[1;32m----> 1\u001b[1;33m \u001b[0mactions\u001b[0m \u001b[1;33m=\u001b[0m \u001b[0msess\u001b[0m\u001b[1;33m.\u001b[0m\u001b[0mrun\u001b[0m\u001b[1;33m(\u001b[0m\u001b[0moutput\u001b[0m\u001b[1;33m)\u001b[0m\u001b[1;33m\u001b[0m\u001b[1;33m\u001b[0m\u001b[0m\n\u001b[0m\u001b[0;32m      2\u001b[0m \u001b[0ma\u001b[0m \u001b[1;33m=\u001b[0m \u001b[0mnp\u001b[0m\u001b[1;33m.\u001b[0m\u001b[0mrandom\u001b[0m\u001b[1;33m.\u001b[0m\u001b[0mchoice\u001b[0m\u001b[1;33m(\u001b[0m\u001b[0mactions\u001b[0m\u001b[1;33m,\u001b[0m \u001b[0mp\u001b[0m \u001b[1;33m=\u001b[0m \u001b[0mactions\u001b[0m\u001b[1;33m)\u001b[0m  \u001b[1;31m# 선택 확률을 다르게 해서 1개 선택\u001b[0m\u001b[1;33m\u001b[0m\u001b[1;33m\u001b[0m\u001b[0m\n\u001b[0;32m      3\u001b[0m \u001b[0maction\u001b[0m \u001b[1;33m=\u001b[0m \u001b[0mnp\u001b[0m\u001b[1;33m.\u001b[0m\u001b[0margmax\u001b[0m\u001b[1;33m(\u001b[0m\u001b[0mactions\u001b[0m \u001b[1;33m==\u001b[0m \u001b[0ma\u001b[0m\u001b[1;33m)\u001b[0m            \u001b[1;31m# 해당 index 출력\u001b[0m\u001b[1;33m\u001b[0m\u001b[1;33m\u001b[0m\u001b[0m\n",
      "\u001b[1;32m~\\AppData\\Local\\conda\\conda\\envs\\venv3\\lib\\site-packages\\tensorflow\\python\\client\\session.py\u001b[0m in \u001b[0;36mrun\u001b[1;34m(self, fetches, feed_dict, options, run_metadata)\u001b[0m\n\u001b[0;32m    927\u001b[0m     \u001b[1;32mtry\u001b[0m\u001b[1;33m:\u001b[0m\u001b[1;33m\u001b[0m\u001b[1;33m\u001b[0m\u001b[0m\n\u001b[0;32m    928\u001b[0m       result = self._run(None, fetches, feed_dict, options_ptr,\n\u001b[1;32m--> 929\u001b[1;33m                          run_metadata_ptr)\n\u001b[0m\u001b[0;32m    930\u001b[0m       \u001b[1;32mif\u001b[0m \u001b[0mrun_metadata\u001b[0m\u001b[1;33m:\u001b[0m\u001b[1;33m\u001b[0m\u001b[1;33m\u001b[0m\u001b[0m\n\u001b[0;32m    931\u001b[0m         \u001b[0mproto_data\u001b[0m \u001b[1;33m=\u001b[0m \u001b[0mtf_session\u001b[0m\u001b[1;33m.\u001b[0m\u001b[0mTF_GetBuffer\u001b[0m\u001b[1;33m(\u001b[0m\u001b[0mrun_metadata_ptr\u001b[0m\u001b[1;33m)\u001b[0m\u001b[1;33m\u001b[0m\u001b[1;33m\u001b[0m\u001b[0m\n",
      "\u001b[1;32m~\\AppData\\Local\\conda\\conda\\envs\\venv3\\lib\\site-packages\\tensorflow\\python\\client\\session.py\u001b[0m in \u001b[0;36m_run\u001b[1;34m(self, handle, fetches, feed_dict, options, run_metadata)\u001b[0m\n\u001b[0;32m   1073\u001b[0m     \u001b[1;31m# Check session.\u001b[0m\u001b[1;33m\u001b[0m\u001b[1;33m\u001b[0m\u001b[1;33m\u001b[0m\u001b[0m\n\u001b[0;32m   1074\u001b[0m     \u001b[1;32mif\u001b[0m \u001b[0mself\u001b[0m\u001b[1;33m.\u001b[0m\u001b[0m_closed\u001b[0m\u001b[1;33m:\u001b[0m\u001b[1;33m\u001b[0m\u001b[1;33m\u001b[0m\u001b[0m\n\u001b[1;32m-> 1075\u001b[1;33m       \u001b[1;32mraise\u001b[0m \u001b[0mRuntimeError\u001b[0m\u001b[1;33m(\u001b[0m\u001b[1;34m'Attempted to use a closed Session.'\u001b[0m\u001b[1;33m)\u001b[0m\u001b[1;33m\u001b[0m\u001b[1;33m\u001b[0m\u001b[0m\n\u001b[0m\u001b[0;32m   1076\u001b[0m     \u001b[1;32mif\u001b[0m \u001b[0mself\u001b[0m\u001b[1;33m.\u001b[0m\u001b[0mgraph\u001b[0m\u001b[1;33m.\u001b[0m\u001b[0mversion\u001b[0m \u001b[1;33m==\u001b[0m \u001b[1;36m0\u001b[0m\u001b[1;33m:\u001b[0m\u001b[1;33m\u001b[0m\u001b[1;33m\u001b[0m\u001b[0m\n\u001b[0;32m   1077\u001b[0m       raise RuntimeError('The Session graph is empty.  Add operations to the '\n",
      "\u001b[1;31mRuntimeError\u001b[0m: Attempted to use a closed Session."
     ]
    }
   ],
   "source": [
    "        actions = sess.run(output)\n",
    "        a = np.random.choice(actions, p = actions)  # 선택 확률을 다르게 해서 1개 선택\n",
    "        action = np.argmax(actions == a)            # 해당 index 출력"
   ]
  },
  {
   "cell_type": "markdown",
   "metadata": {},
   "source": [
    "### Agent 학습시키기"
   ]
  },
  {
   "cell_type": "code",
   "execution_count": 8,
   "metadata": {
    "scrolled": false
   },
   "outputs": [
    {
     "name": "stdout",
     "output_type": "stream",
     "text": [
      "Running reward for the 4 arms of the bandit: [-1.  0.  0.  0.] ,NN weight : [0.999 1.001 1.001 1.001]\n",
      "Running reward for the 4 arms of the bandit: [-4. -3.  2.  8.] ,NN weight : [0.99147594 0.9916762  1.0037453  1.0195608 ]\n",
      "Running reward for the 4 arms of the bandit: [-7.  1.  5. 20.] ,NN weight : [0.9743758 0.9901832 1.0018516 1.0391783]\n",
      "Running reward for the 4 arms of the bandit: [-15.  -4.   9.  31.] ,NN weight : [0.9549323 0.9799881 1.0089756 1.0608577]\n",
      "Running reward for the 4 arms of the bandit: [-15.   0.   6.  42.] ,NN weight : [0.94833696 0.9789702  0.9951823  1.07969   ]\n",
      "Running reward for the 4 arms of the bandit: [-11.   1.   6.  55.] ,NN weight : [0.94541943 0.9761677  0.9827176  1.0953443 ]\n",
      "Running reward for the 4 arms of the bandit: [-11.  -2.   5.  67.] ,NN weight : [0.9442065 0.9623479 0.9773737 1.1141603]\n",
      "Running reward for the 4 arms of the bandit: [-11.  -7.  10.  79.] ,NN weight : [0.9359352  0.94878525 0.9789605  1.1332158 ]\n",
      "Running reward for the 4 arms of the bandit: [-14.  -7.  15.  87.] ,NN weight : [0.92724067 0.93613344 0.9866477  1.1465065 ]\n",
      "Running reward for the 4 arms of the bandit: [-20.  -2.  18.  95.] ,NN weight : [0.90854055 0.9428688  0.9870336  1.158327  ]\n",
      "Running reward for the 4 arms of the bandit: [-26.  -4.  17. 110.] ,NN weight : [0.8916254  0.93839175 0.982477   1.1832173 ]\n",
      "Running reward for the 4 arms of the bandit: [-30.  -4.  19. 124.] ,NN weight : [0.8770165  0.93004096 0.9818886  1.2055598 ]\n",
      "Running reward for the 4 arms of the bandit: [-29.  -6.  21. 131.] ,NN weight : [0.87015086 0.9238972  0.9769677  1.2221831 ]\n",
      "Running reward for the 4 arms of the bandit: [-36.  -6.  30. 135.] ,NN weight : [0.8573903  0.9162569  0.99336886 1.2266535 ]\n",
      "Running reward for the 4 arms of the bandit: [-39.  -6.  33. 141.] ,NN weight : [0.8398541 0.9160572 1.003811  1.2338948]\n",
      "Running reward for the 4 arms of the bandit: [-38.  -3.  30. 156.] ,NN weight : [0.8356221  0.912542   0.98978704 1.2538903 ]\n",
      "Running reward for the 4 arms of the bandit: [-39.   3.  29. 164.] ,NN weight : [0.82984585 0.9165896  0.97964287 1.2648654 ]\n",
      "Running reward for the 4 arms of the bandit: [-47.   1.  28. 171.] ,NN weight : [0.81235737 0.9181493  0.9788983  1.2807015 ]\n",
      "Running reward for the 4 arms of the bandit: [-52.  -2.  33. 184.] ,NN weight : [0.7985167  0.90794784 0.9825836  1.2999539 ]\n",
      "Running reward for the 4 arms of the bandit: [-50.  -1.  36. 202.] ,NN weight : [0.78936267 0.89799947 0.97723013 1.3227341 ]\n",
      "\n",
      " The agent thinks arm 4 is the most promissing...\n",
      "...and it was right!\n"
     ]
    }
   ],
   "source": [
    "# Agent를 학습시킬 총 에피소드의 수를 설정한다.\n",
    "total_episodes = 1000\n",
    "\n",
    "# 벤딧 손잡이에 대한 점수판을 0으로 설정\n",
    "total_reward = np.zeros(num_arms)\n",
    "\n",
    "init = tf.global_variables_initializer()\n",
    "\n",
    "\n",
    "# 텐서플로 그래프 론칭\n",
    "with tf.Session() as sess:\n",
    "    sess.run(init)\n",
    "    i = 0\n",
    "    while i < total_episodes:\n",
    "        # 볼츠만 분포에 따라 액션 선택\n",
    "        actions = sess.run(output)\n",
    "        a = np.random.choice(actions, p = actions)  # 선택 확률을 다르게 해서 1개 선택\n",
    "        action = np.argmax(actions == a)            # 해당 index 출력\n",
    "        \n",
    "        \n",
    "        # 벤딧 손잡이 중 하나를 선택함으로써 보상을 받는다.\n",
    "        reward = pullBandit(bandit_arms[action])  # [0.2, 0, -0.2, -1][index]를 통해 난수보다 작으면 1 크면 -1 받음\n",
    "        \n",
    "        \n",
    "        # 네트워크를 업데이트 한다.\n",
    "        _, resp, ww = sess.run([update, responsible_output, weights], feed_dict = {reward_holder:[reward], action_holder:[action]})\n",
    "\n",
    "        \n",
    "        # 보상의 총계 업데이트\n",
    "        total_reward[action] += reward\n",
    "        if i%50 == 0:\n",
    "            print(\"Running reward for the \" + str(num_arms) + \" arms of the bandit: \" + str(total_reward) + \" ,NN weight : \" + str(ww))\n",
    "#            print(\"가중치 변화 : \",ww)\n",
    "#            print(\"resp : \", resp)\n",
    "        i+=1\n",
    "        \n",
    "        \n",
    "print(\"\\n The agent thinks arm \" + str(np.argmax(ww)+1) +\" is the most promissing...\")\n",
    "\n",
    "\n",
    "if np.argmax(ww) == np.argmax(-np.array(bandit_arms)):\n",
    "    print(\"...and it was right!\")\n",
    "else:\n",
    "    print(\"...and it was wrong!\")"
   ]
  },
  {
   "cell_type": "markdown",
   "metadata": {},
   "source": [
    "학습 결과를 보면 4개의 Bandit 중에 4번 손잡이가 가장 큰 보상을 준다고 하였고, 처음에 그렇게 지정했든 4번째 손잡이가 정답이다."
   ]
  }
 ],
 "metadata": {
  "kernelspec": {
   "display_name": "Python 3",
   "language": "python",
   "name": "python3"
  },
  "language_info": {
   "codemirror_mode": {
    "name": "ipython",
    "version": 3
   },
   "file_extension": ".py",
   "mimetype": "text/x-python",
   "name": "python",
   "nbconvert_exporter": "python",
   "pygments_lexer": "ipython3",
   "version": "3.6.8"
  }
 },
 "nbformat": 4,
 "nbformat_minor": 2
}
