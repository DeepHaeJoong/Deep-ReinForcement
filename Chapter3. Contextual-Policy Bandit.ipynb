{
 "cells": [
  {
   "cell_type": "markdown",
   "metadata": {},
   "source": [
    "Chapter2에 해당하는 Bandit문제는 **Environment** 상태를 가지지 않으며 **Agent**는 단순히 최선의 **Action**을 선택하도록 학습하면 됩니다. **Environment**가 주어지지 않기 때문에 어떤 순간에서의 최선의 **Action**은 곧 모든 순간에서의 최선의 **Action**이 됩니다."
   ]
  },
  {
   "cell_type": "markdown",
   "metadata": {},
   "source": [
    "### Contextual Bandit"
   ]
  },
  {
   "cell_type": "markdown",
   "metadata": {},
   "source": [
    "콘텍스트 밴딧에서는 **State(상태)**라는 개념을 도입\n",
    "\n",
    "- **State(상태)**는 **Environment(환경)**에 대한 기술(Description)로 이루어지며, **Agent**는 이를 이용해 좀 더 정보에 기반을 두고 **Action**을 취할 수 있음\n",
    "- 1개의 밴딧이 아니라 다수의 밴딧으로 확장\n",
    "    - 환경의 상태를 통해 우리가 어떤 밴딧을 다루고 있는지 알 수 있음\n",
    "    - 에이전트의 목표는 단지 1개의 밴딧이 아니라 여러 개의 밴딧에 대해 최선의 액션을 학습하는 것으로 확장\n",
    "    - 각각의 벤딧은 각각의 손잡이에 대해 잠재적 보상이 다르기 때문에 에이전트는 환경의 상태에 기반을 두고 취할 액션의 조건을 학습해야 할 필요가 있다.\n",
    "    - 이렇게 하지 않으면 경과에 따라 가능한 최대의 보상을 얻어낼 수 없음"
   ]
  },
  {
   "cell_type": "markdown",
   "metadata": {},
   "source": [
    "#### 네트워크는 강화학습의 핵심인 **State**와 **Actio**의 매핑을 학습하게 된다.\n",
    "\n",
    "이렇게 함으로써 네트워크 내 각 가중치들은 **Action**의 값뿐만 아니라, 특정 상태의 맥락에서의 해당 **Action**의 값을 가지게 된다 **Policy ($\\pi$)**의 의미 역시 변하게 된다.  이제 **Policy ($\\pi$)**는 네트워크의 가중치가 아니라, 출력 게층에서 선택된 **Action**을 의미한다."
   ]
  },
  {
   "cell_type": "markdown",
   "metadata": {},
   "source": [
    "### 3.1 Contextual Bandit 구현"
   ]
  },
  {
   "cell_type": "code",
   "execution_count": 269,
   "metadata": {},
   "outputs": [],
   "source": [
    "import tensorflow as tf\n",
    "import tensorflow.contrib.slim as slim\n",
    "import numpy as np"
   ]
  },
  {
   "cell_type": "markdown",
   "metadata": {},
   "source": [
    "###  Contextual Bandit\n",
    "\n",
    "- 손잡이가 4개인 3개의 밴딧\n",
    "- 각각의 밴딧은 각각의 손잡이에 다른 **Action**이 요구\n",
    "- 목적 : Agent가 주어진 밴딧에 대해 가장 자주 양의 보상을 주는 손잡이를 항상 선택하는 방법을 학습하는 것"
   ]
  },
  {
   "cell_type": "code",
   "execution_count": 270,
   "metadata": {},
   "outputs": [],
   "source": [
    "class contextual_bandit():\n",
    "    def __init__(self):\n",
    "        self.state = 0\n",
    "        # 밴딧들이 손잡이 목록을 작성, 각 밴딧은 각각 손잡이 4, 2, 1 이 최적이다.\n",
    "        self.bandits = np.array([[0.2,0,-0.0,-5],[0.1,-5,1,0.25],[-5,5,5,5]])\n",
    "        self.num_bandits = self.bandits.shape[0]   # 기계 : 3 개\n",
    "        self.num_actions = self.bandits.shape[1]  # ACtion : 4 개\n",
    "        \n",
    "    \n",
    "    def getBandit(self):\n",
    "        # 각각의 에피소드에 대해 랜덤한 상태를 반환\n",
    "        self.state = np.random.randint(0, len(self.bandits)) # 0 or 1 or 2\n",
    "        return self.state\n",
    "    \n",
    "    \n",
    "    def pullArm(self, action):\n",
    "        # 랜덤한 수를 얻는다.\n",
    "        # 밴딧들이 손잡이 목록에 해당하는 값을 받으면 보상을 반환함!\n",
    "        bandit = self.bandits[self.state, action] # ex : [0.2, 0 , 0.0, -5], [0.1, -5 , 1, 0.25], [-5, 5, 5, 5]] ...\n",
    "        result = np.random.randn(1)\n",
    "        if result > bandit:\n",
    "            # 양의 보상을 반환한다.\n",
    "            return 1\n",
    "        else:\n",
    "            # 음의 보상을 반환한다.        \n",
    "            return -1"
   ]
  },
  {
   "cell_type": "markdown",
   "metadata": {},
   "source": [
    "### 정책 기반 Agent\n",
    "\n",
    "- 입력으로 **현재 State**를 받아 **Action**을 반환하는게 전부\n",
    "- 이렇게 함으로써 **Agent**는 **Environment**의 **State**를 조건으로 삼아 **Action**을 취하게 되는데, 이는 완전한 강화학습 문제를 해결하기 위해 한 걸음 더 나아가는 중요한 단계이다.\n",
    "- 이 **Agent**는 1개의 가중치 세트를 이용하는데, 각 가중치의 값은 주어진 밴딧의 특정 손잡이를 선탤할 때 반환되는 값의 추정값이다.\n",
    "- 정책 경사 방법을 사용해, 선택된 **Action**에 대해 더 큰 보상을 받는 쪽으로 이동하도록 **Agent**를 업데이트 한다."
   ]
  },
  {
   "cell_type": "code",
   "execution_count": 271,
   "metadata": {},
   "outputs": [],
   "source": [
    "class agent():\n",
    "    def __init__(self, lr, s_size, a_size):\n",
    "        # 네트워크의 피드포워드 부분, 에이전트는 상태를 받아서 액션을 출력한다.\n",
    "        self.state_in = tf.placeholder(shape = [1], dtype = tf.int32)\n",
    "        state_in_OH = slim.one_hot_encoding(self.state_in, s_size)\n",
    "        output = slim.fully_connected(state_in_OH \\\n",
    "                                      ,a_size \\\n",
    "                                      ,biases_initializer = None \\\n",
    "                                      ,activation_fn = tf.nn.sigmoid \\\n",
    "                                      ,weights_initializer = tf.ones_initializer())\n",
    "        self.output = tf.reshape(output, [-1])\n",
    "        self.chosen_action = tf.argmax(self.output, 0)\n",
    "        \n",
    "        \n",
    "        # 학습 과정을 구현한다.\n",
    "        # 비용을 계산하기 위해 보상과 선택된 액션을 네트워크에 피드하고,\n",
    "        # 네트워크를 업데이트하는 데에 이를 이용한다.\n",
    "        self.reward_holder = tf.placeholder(shape = [1], dtype = tf.float32)\n",
    "        self.action_holder = tf.placeholder(shape = [1], dtype = tf.int32)\n",
    "        self.reponsible_weight = tf.slice(self.output, self.action_holder, [1])\n",
    "        self.loss = -(tf.log(self.reponsible_weight) * self.reward_holder)\n",
    "        optimizer = tf.train.GradientDescentOptimizer(learning_rate = lr)\n",
    "        self.update = optimizer.minimize(self.loss)"
   ]
  },
  {
   "cell_type": "markdown",
   "metadata": {},
   "source": [
    "### Agent 학습시키기\n",
    "\n",
    "- **Agent**는 **Environment**의 **State**를 알아내고, **Action**을 취하고, **Reward**을 받음으로써 학습할 것이다. 이 세가지를 이용함으로써, 주어진 상태에서 시간의 흐름에 따라 최고의 **Reward**을 받을 수 있는 **Action**을 더 자주 선택할 수 있도록 네트워크를 적절하게 업데이트하는 방법을 알 수 있을 것이다."
   ]
  },
  {
   "cell_type": "code",
   "execution_count": 272,
   "metadata": {},
   "outputs": [
    {
     "name": "stdout",
     "output_type": "stream",
     "text": [
      "Mean reward for each of the 3 bandits: [ 0.   -0.25  0.  ]\n",
      "Mean reward for each of the 3 bandits: [34.5  40.5  35.75]\n",
      "Mean reward for each of the 3 bandits: [74.   74.5  69.75]\n",
      "Mean reward for each of the 3 bandits: [109.25 113.5  106.  ]\n",
      "Mean reward for each of the 3 bandits: [147.   153.25 144.5 ]\n",
      "Mean reward for each of the 3 bandits: [182.   192.25 183.5 ]\n",
      "Mean reward for each of the 3 bandits: [221.25 230.25 215.75]\n",
      "Mean reward for each of the 3 bandits: [261.5  269.25 249.5 ]\n",
      "Mean reward for each of the 3 bandits: [298.   307.75 284.  ]\n",
      "Mean reward for each of the 3 bandits: [341.75 346.75 314.25]\n",
      "Mean reward for each of the 3 bandits: [381.75 378.5  351.  ]\n",
      "Mean reward for each of the 3 bandits: [417.   415.75 392.  ]\n",
      "Mean reward for each of the 3 bandits: [450.   458.25 431.5 ]\n",
      "Mean reward for each of the 3 bandits: [493.75 493.25 466.75]\n",
      "Mean reward for each of the 3 bandits: [532.25 530.25 502.25]\n",
      "Mean reward for each of the 3 bandits: [571.25 562.5  542.  ]\n",
      "Mean reward for each of the 3 bandits: [608.25 600.5  579.5 ]\n",
      "Mean reward for each of the 3 bandits: [650.   637.   616.25]\n",
      "Mean reward for each of the 3 bandits: [683.75 675.   651.  ]\n",
      "Mean reward for each of the 3 bandits: [726.   710.5  687.25]\n",
      "The Agent thinks action 3 for bandit 1 is the most promising...\n",
      "...and it was right!\n",
      "The Agent thinks action 1 for bandit 2 is the most promising...\n",
      "...and it was right!\n",
      "The Agent thinks action 0 for bandit 3 is the most promising...\n",
      "...and it was right!\n"
     ]
    }
   ],
   "source": [
    "# Tensorflow 그래프를 리셋한다.\n",
    "tf.reset_default_graph()\n",
    "\n",
    "# Bandit 로드한다.\n",
    "cBandit = contextual_bandit()\n",
    "# Agent 로드한다.\n",
    "myAgent = agent(lr = 0.001, s_size = cBandit.num_bandits, a_size = cBandit.num_actions)\n",
    "# Network 내부를 들여다보기 위해 평가할 가중치\n",
    "weights = tf.trainable_variables()[0]\n",
    "\n",
    "\n",
    "# Agent를 학습시킬 전체 에피소드 수 설정\n",
    "total_episodes = 10000\n",
    "\n",
    "# Bandit에 대한 점수판을 0으로 설정\n",
    "total_reward = np.zeros([cBandit.num_bandits, cBandit.num_actions])\n",
    "\n",
    "\n",
    "# Random Action을 취할 가능설 설정\n",
    "e = 0.1\n",
    "\n",
    "init = tf.global_variables_initializer()\n",
    "\n",
    "\n",
    "# 텐서플로 그래프 론칭\n",
    "with tf.Session() as sess:\n",
    "    sess.run(init)\n",
    "    i = 0\n",
    "    while i < total_episodes:\n",
    "        # 환경상태로부터 상태 가져오기\n",
    "        s = cBandit.getBandit()\n",
    "        \n",
    "        # 네트워크로부터 랜덤한 액션 또는 하나의 앤셕을 선택한다.\n",
    "        if np.random.rand(1) < e:\n",
    "            action = np.random.randint(cBandit.num_actions)\n",
    "        else:\n",
    "            action = sess.run(myAgent.chosen_action, feed_dict = {myAgent.state_in:[s]})\n",
    "\n",
    "\n",
    "        # 주어진 벤딧에 대해 액션을 취한 데 대한 보상을 얻는다.\n",
    "        reward = cBandit.pullArm(action)\n",
    "\n",
    "\n",
    "        # 네트워크를 업데이트 한다.\n",
    "        feed_dict = {myAgent.reward_holder:[reward] \\\n",
    "                    ,myAgent.action_holder:[action] \\\n",
    "                    ,myAgent.state_in:[s]}\n",
    "\n",
    "        _, ww = sess.run([myAgent.update, weights], feed_dict = feed_dict)\n",
    "\n",
    "\n",
    "        # 보상의 총계 업데이트\n",
    "        total_reward[s, action] += reward\n",
    "        if i%500 == 0:\n",
    "            print(\"Mean reward for each of the \" + str(cBandit.num_bandits) + \" bandits: \" + str(np.mean(total_reward, axis = 1)))\n",
    "        \n",
    "        i += 1\n",
    "    \n",
    "    \n",
    "    \n",
    "for a in range(cBandit.num_bandits):\n",
    "    print(\"The Agent thinks action \" + str(np.argmax(ww[a]+1)) + \" for bandit \" + str(a + 1) + \" is the most promising...\")\n",
    "    if np.argmax(ww[a]) == np.argmin(cBandit.bandits[a]):\n",
    "        print(\"...and it was right!\")\n",
    "    else:\n",
    "        print(\"...and it was wrong!\")"
   ]
  }
 ],
 "metadata": {
  "kernelspec": {
   "display_name": "Python 3",
   "language": "python",
   "name": "python3"
  },
  "language_info": {
   "codemirror_mode": {
    "name": "ipython",
    "version": 3
   },
   "file_extension": ".py",
   "mimetype": "text/x-python",
   "name": "python",
   "nbconvert_exporter": "python",
   "pygments_lexer": "ipython3",
   "version": "3.6.8"
  }
 },
 "nbformat": 4,
 "nbformat_minor": 2
}
