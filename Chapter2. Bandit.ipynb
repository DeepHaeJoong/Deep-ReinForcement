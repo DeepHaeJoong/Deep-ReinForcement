{
 "cells": [
  {
   "cell_type": "markdown",
   "metadata": {},
   "source": [
    "### Bandit Problem\n",
    "\n",
    "\n",
    "**상호 관계**에 바탕을 둔 강화학습의 프레임워크\n",
    "\n",
    "- Agent : 행위자\n",
    "- Action : 행위\n",
    "- Environment : World\n",
    "- State : 환경의 상태\n",
    "- Reward : 보상\n",
    "\n",
    "\n",
    "![Image of Yaktocat](https://mblogthumb-phinf.pstatic.net/MjAxNzEwMTZfMTc2/MDAxNTA4MTE5MzMzOTgx.5SwCUZzPqMUqDw3y_NuGFZbhNv7Yaby3DPn9GJLpckkg.jHIdTSJjmjvZnOp9FkGyyj-zdhTkKht6Okpi-2FJCzgg.PNG.linegamedev/1.png?type=w800)\n",
    "\n"
   ]
  },
  {
   "cell_type": "markdown",
   "metadata": {},
   "source": [
    "### 강화학습의 세가지 요소\n",
    "- 액션 의존성 : 각 액션은 다른 보상을 가져오게 됩니다.\n",
    "- 시간 의존성 : 보상은 시간이 지연되고 나서야 주어집니다.\n",
    "- 상태 의존성 : 어떤 액션에 대한 보상은 환경 상태에 좌우됩니다.\n",
    "\n",
    "우리가 최적의 Action을 선택하도록 보장하는 것, 이를 $정책^{Policy}$이라고 한다."
   ]
  },
  {
   "cell_type": "markdown",
   "metadata": {},
   "source": [
    "### Policy Gradient(정책 경사)\n",
    "\n",
    "비용을 수식으로 다음과 같이 표현\n",
    "\n",
    "$$\n",
    "Loss = - \\log(\\pi)* A\n",
    "$$\n",
    "\n",
    "$\\pi$ : Policy  \n",
    "$A$ : Advantage\n",
    "\n",
    "\n",
    "<img src=\"https://github.com/DeepHaeJoong/Deep-ReinForcement/blob/master/PNG/Bandit%20Problem.PNG?raw=true\" alt=\"drawing\" width=\"600\"/>"
   ]
  },
  {
   "cell_type": "markdown",
   "metadata": {},
   "source": [
    "### 환경은 상태를 가지지 않으며 Agent는 단순히 최선의 Action을 하도록 학습하면 된다."
   ]
  },
  {
   "cell_type": "code",
   "execution_count": 1,
   "metadata": {},
   "outputs": [],
   "source": [
    "import tensorflow as tf\n",
    "import tensorflow.contrib.slim as slim\n",
    "import numpy as np\n",
    "\n",
    "\n",
    "# 밴딧의 손잡이 목록을 작성한다.\n",
    "# 현재 손잡이 4(인덱스 3)가 가장 자주 양의 보상을 제공하도록 설정되어 있다.\n",
    "bandit_arms = [0.2, 0, -0.2, -1]\n",
    "num_arms = len(bandit_arms)\n",
    "\n",
    "\n",
    "def pullBandit(bandit):\n",
    "    # 랜덤한 값을 구한다.(-1 ~ +1)\n",
    "    result = np.random.randn(1)\n",
    "    if result > bandit:\n",
    "        # 양의 보상을 반환 한다.\n",
    "        # pullBandit(-1)\n",
    "        return 1\n",
    "    else:\n",
    "        # 음의 보상을 반환 한다.\n",
    "        # pullBandit(1)\n",
    "        return -1"
   ]
  },
  {
   "cell_type": "markdown",
   "metadata": {},
   "source": [
    "### Agent\n",
    "\n",
    "각 벤딧 손잡이에 대한 일련의 값들로 구성되어 있음. 각 값은 해당 벤딧을 선택할 때 반환되는 보상의 추정값을 의미한다. 우리는 정책 경사 방법을 이용해, 선택된 액션에 대해 큰 보상을 받는 쪽으로 이동해나가며 에이전트를 업데이트."
   ]
  },
  {
   "cell_type": "code",
   "execution_count": 2,
   "metadata": {},
   "outputs": [],
   "source": [
    "tf.reset_default_graph()\n",
    "\n",
    "# 네트워크의 피드포워드 부분을 구현한다.\n",
    "weights = tf.Variable(tf.ones([num_arms])) # [1. 1. 1. 1.]\n",
    "output = tf.nn.softmax(weights)            # 선택될 확률 같도록 설정 -> [0.25 0.25 0.25 0.25]\n",
    "\n",
    "\n",
    "# 학습 과정을 구현\n",
    "# 보상과 선택된 액션을 네트워크에 피드해줌으로써 비용을 계산하고\n",
    "# 비용을 이용해 네트워크를 업데이트 한다.\n",
    "reward_holder = tf.placeholder(shape = [1], dtype = tf.float32)\n",
    "action_holder = tf.placeholder(shape = [1], dtype = tf.int32)\n",
    "\n",
    "\n",
    "responsible_output = tf.slice(output, action_holder, [1])  # (inpit, begin, size) -> 선택된 Action의 가중치\n",
    "loss = -(tf.log(responsible_output)*reward_holder)\n",
    "optimizer = tf.train.AdamOptimizer(learning_rate = 1e-3)\n",
    "update = optimizer.minimize(loss)"
   ]
  },
  {
   "cell_type": "markdown",
   "metadata": {},
   "source": [
    "### Agent 학습시키기"
   ]
  },
  {
   "cell_type": "code",
   "execution_count": 5,
   "metadata": {
    "scrolled": false
   },
   "outputs": [
    {
     "name": "stdout",
     "output_type": "stream",
     "text": [
      "Running reward for the 4 arms of the bandit: [-1.  0.  0.  0.] ,NN weight : [0.999 1.001 1.001 1.001]\n",
      "Running reward for the 4 arms of the bandit: [-2. -4.  2. 13.] ,NN weight : [0.9905209  0.98812515 1.0003792  1.0221338 ]\n",
      "Running reward for the 4 arms of the bandit: [-5. -8.  1. 15.] ,NN weight : [0.98558885 0.98167974 1.000743   1.0321381 ]\n",
      "Running reward for the 4 arms of the bandit: [-3. -7.  6. 31.] ,NN weight : [0.9792868 0.970873  0.9955532 1.0510005]\n",
      "Running reward for the 4 arms of the bandit: [ -4. -12.  14.  35.] ,NN weight : [0.969272  0.9552569 1.0123897 1.0589362]\n",
      "Running reward for the 4 arms of the bandit: [ -3. -15.  15.  44.] ,NN weight : [0.9648457  0.94500124 1.0159928  1.0691881 ]\n",
      "Running reward for the 4 arms of the bandit: [ -1. -19.  15.  56.] ,NN weight : [0.96566206 0.93133014 1.0081486  1.0893043 ]\n",
      "Running reward for the 4 arms of the bandit: [ -3. -17.  18.  59.] ,NN weight : [0.9566407  0.92917204 1.0115085  1.0964173 ]\n",
      "Running reward for the 4 arms of the bandit: [ -3. -12.  21.  71.] ,NN weight : [0.94736934 0.9278207  1.0083245  1.1093638 ]\n",
      "Running reward for the 4 arms of the bandit: [-5. -8. 28. 74.] ,NN weight : [0.9343395 0.9315603 1.0118275 1.1142669]\n",
      "Running reward for the 4 arms of the bandit: [-7. -9. 31. 82.] ,NN weight : [0.9260804 0.9290904 1.0172502 1.1190584]\n",
      "Running reward for the 4 arms of the bandit: [-14.  -8.  31.  92.] ,NN weight : [0.9098497  0.92638296 1.0121924  1.141849  ]\n",
      "Running reward for the 4 arms of the bandit: [-16.  -3.  28. 100.] ,NN weight : [0.8985352 0.9300642 1.0044729 1.15627  ]\n",
      "Running reward for the 4 arms of the bandit: [-23.   1.  29. 106.] ,NN weight : [0.88110393 0.93876356 1.0031952  1.1651087 ]\n",
      "Running reward for the 4 arms of the bandit: [-14.   3.  34. 114.] ,NN weight : [0.88478106 0.93436086 1.0028079  1.1663947 ]\n",
      "Running reward for the 4 arms of the bandit: [-22.   0.  31. 122.] ,NN weight : [0.87059206 0.92933613 1.0013711  1.186454  ]\n",
      "Running reward for the 4 arms of the bandit: [-24.   1.  33. 137.] ,NN weight : [0.86213857 0.9201271  0.99531734 1.2097213 ]\n",
      "Running reward for the 4 arms of the bandit: [-31.  -6.  32. 138.] ,NN weight : [0.8462154  0.91437197 0.99970996 1.2260815 ]\n",
      "Running reward for the 4 arms of the bandit: [-34.   1.  32. 150.] ,NN weight : [0.83459234 0.91864103 0.9927555  1.2396293 ]\n",
      "Running reward for the 4 arms of the bandit: [-35.  -3.  32. 161.] ,NN weight : [0.829629  0.9113673 0.987856  1.2563578]\n",
      "\n",
      " The agent thinks arm 4 is the most promissing...\n",
      "...and it was right!\n"
     ]
    }
   ],
   "source": [
    "# Agent를 학습시킬 총 에피소드의 수를 설정한다.\n",
    "total_episodes = 1000\n",
    "\n",
    "# 벤딧 손잡이에 대한 점수판을 0으로 설정\n",
    "total_reward = np.zeros(num_arms)\n",
    "\n",
    "init = tf.global_variables_initializer()\n",
    "\n",
    "\n",
    "# 텐서플로 그래프 론칭\n",
    "with tf.Session() as sess:\n",
    "    sess.run(init)\n",
    "    i = 0\n",
    "    while i < total_episodes:\n",
    "        # 볼츠만 분포에 따라 액션 선택\n",
    "        actions = sess.run(output)\n",
    "        a = np.random.choice(actions, p = actions)  # 선택 확률을 다르게 해서 1개 선택\n",
    "        action = np.argmax(actions == a)            # 해당 index 출력\n",
    "        \n",
    "        \n",
    "        # 벤딧 손잡이 중 하나를 선택함으로써 보상을 받는다.\n",
    "        reward = pullBandit(bandit_arms[action])  # [0.2, 0, -0.2, -1][index]를 통해 난수보다 작으면 1 크면 -1 받음\n",
    "        \n",
    "        \n",
    "        # 네트워크를 업데이트 한다.\n",
    "        _, resp, ww = sess.run([update, responsible_output, weights], feed_dict = {reward_holder:[reward], action_holder:[action]})\n",
    "\n",
    "        \n",
    "        # 보상의 총계 업데이트\n",
    "        total_reward[action] += reward\n",
    "        if i%50 == 0:\n",
    "            print(\"Running reward for the \" + str(num_arms) + \" arms of the bandit: \" + str(total_reward) + \" ,NN weight : \" + str(ww))\n",
    "#            print(\"가중치 변화 : \",ww)\n",
    "#            print(\"resp : \", resp)\n",
    "        i+=1\n",
    "        \n",
    "        \n",
    "print(\"\\n The agent thinks arm \" + str(np.argmax(ww)+1) +\" is the most promissing...\")\n",
    "\n",
    "\n",
    "if np.argmax(ww) == np.argmax(-np.array(bandit_arms)):\n",
    "    print(\"...and it was right!\")\n",
    "else:\n",
    "    print(\"...and it was wrong!\")"
   ]
  },
  {
   "cell_type": "markdown",
   "metadata": {},
   "source": [
    "학습 결과를 보면 4개의 Bandit 중에 4번 손잡이가 가장 큰 보상을 준다고 하였고, 처음에 그렇게 지정했든 4번째 손잡이가 정답이다."
   ]
  }
 ],
 "metadata": {
  "kernelspec": {
   "display_name": "Python 3",
   "language": "python",
   "name": "python3"
  },
  "language_info": {
   "codemirror_mode": {
    "name": "ipython",
    "version": 3
   },
   "file_extension": ".py",
   "mimetype": "text/x-python",
   "name": "python",
   "nbconvert_exporter": "python",
   "pygments_lexer": "ipython3",
   "version": "3.6.8"
  }
 },
 "nbformat": 4,
 "nbformat_minor": 2
}
