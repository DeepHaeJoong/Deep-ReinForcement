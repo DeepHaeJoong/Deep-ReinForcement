{
 "cells": [
  {
   "cell_type": "markdown",
   "metadata": {},
   "source": [
    "### Bandit Problem\n",
    "\n",
    "\n",
    "상호 관계에 바탕을 둔 강화학습의 프레임워크\n",
    "\n",
    "- Agent : 행위자\n",
    "- Action : 행위\n",
    "- Environment : World\n",
    "- State : 환경의 상태\n",
    "- Reward : 보상\n",
    "\n",
    "\n",
    "![Image of Yaktocat](https://mblogthumb-phinf.pstatic.net/MjAxNzEwMTZfMTc2/MDAxNTA4MTE5MzMzOTgx.5SwCUZzPqMUqDw3y_NuGFZbhNv7Yaby3DPn9GJLpckkg.jHIdTSJjmjvZnOp9FkGyyj-zdhTkKht6Okpi-2FJCzgg.PNG.linegamedev/1.png?type=w800)\n",
    "\n"
   ]
  },
  {
   "cell_type": "markdown",
   "metadata": {},
   "source": [
    "### 강화학습의 세가지 요소\n",
    "- 액션 의존성 : 각 액션은 다른 보상을 가져오게 됩니다.\n",
    "- 시간 의존성 : 보상은 시간이 지연되고 나서야 주어집니다.\n",
    "- 상태 의존성 : 어떤 액션에 대한 보상은 환경 상태에 좌우됩니다.\n",
    "\n",
    "우리가 최적의 Action을 선택하도록 보장하는 것, 이를 $정책^{Policy}$이라고 한다."
   ]
  },
  {
   "cell_type": "markdown",
   "metadata": {},
   "source": [
    "### Policy Gradient\n",
    "\n",
    "비용을 수식으로 다음과 같이 표현\n",
    "\n",
    "$$\n",
    "Loss = - \\log(\\pi)* A\n",
    "$$\n",
    "\n",
    "$\\pi$ : Policy  \n",
    "$A$ : Advantage\n",
    "\n",
    "\n",
    "<img src=\"https://github.com/DeepHaeJoong/Deep-ReinForcement/blob/master/PNG/Bandit%20Problem.PNG?raw=true\" alt=\"drawing\" width=\"600\"/>"
   ]
  },
  {
   "cell_type": "markdown",
   "metadata": {},
   "source": [
    "### 환경은 상태를 가지지 않으며 Agent는 단순히 최선의 Action을 하도록 학습하면 된다."
   ]
  },
  {
   "cell_type": "code",
   "execution_count": 262,
   "metadata": {},
   "outputs": [],
   "source": [
    "import tensorflow as tf\n",
    "import tensorflow.contrib.slim as slim\n",
    "import numpy as np\n",
    "\n",
    "\n",
    "# 밴딧의 손잡이 목록을 작성한다.\n",
    "# 현재 손잡이 4(인덱스 3)가 가장 자주 양의 보상을 제공하도록 설정되어 있다.\n",
    "bandit_arms = [0.2, 0, -0.2, -1]\n",
    "num_arms = len(bandit_arms)\n",
    "\n",
    "def pullBandit(bandit):\n",
    "    # 랜덤한 값을 구한다.\n",
    "    result = np.random.randn(1)\n",
    "    if result > bandit:\n",
    "        # 양의 보상을 반환 한다.\n",
    "        return 1\n",
    "    else:\n",
    "        # 음의 보상을 반환 한다.\n",
    "        return -1"
   ]
  },
  {
   "cell_type": "markdown",
   "metadata": {},
   "source": [
    "### Agent\n",
    "\n",
    "각 벤딧 손잡이에 대한 일련의 값들로 구성되어 있음. 각 값은 해당 벤딧을 선택할 때 반환되는 보상의 추정값을 의미한다. 우리는 저액 경사 방법을 이용해, 선택된 액션에 대해 큰 보상을 받는 쪽으로 디동해나가며 에이전트를 업데이트."
   ]
  },
  {
   "cell_type": "code",
   "execution_count": 263,
   "metadata": {},
   "outputs": [],
   "source": [
    "tf.reset_default_graph()\n",
    "\n",
    "# 네트워크의 피드포워드 부분을 구현한다.\n",
    "weights = tf.Variable(tf.ones([num_arms])) # [1. 1. 1. 1.]\n",
    "output = tf.nn.softmax(weights)            # [0.25 0.25 0.25 0.25]\n",
    "\n",
    "\n",
    "# 학습 과정을 구현\n",
    "# 보상과 선택된 액션을 네트워크에 비드해줌으로써 비용을 계산하고\n",
    "# 비용을 이용해 네트워크를 업데이트 한다.\n",
    "reward_holder = tf.placeholder(shape = [1], dtype = tf.float32)\n",
    "action_holder = tf.placeholder(shape = [1], dtype = tf.int32)\n",
    "\n",
    "\n",
    "responsible_output = tf.slice(output, action_holder, [1]) # (inpit, begin, size) -> \n",
    "loss = -(tf.log(responsible_output)*reward_holder)\n",
    "optimizer = tf.train.AdamOptimizer(learning_rate = 1e-3)\n",
    "update = optimizer.minimize(loss)"
   ]
  },
  {
   "cell_type": "code",
   "execution_count": 260,
   "metadata": {},
   "outputs": [
    {
     "name": "stdout",
     "output_type": "stream",
     "text": [
      "[0.20235686 0.22514232 0.23405087 0.33844995]\n",
      "0.33844995\n",
      "3\n"
     ]
    }
   ],
   "source": [
    "print(actions)\n",
    "a = np.random.choice(actions, p = actions)\n",
    "print(a)\n",
    "action = np.argmax(actions == a)\n",
    "print(action)"
   ]
  },
  {
   "cell_type": "markdown",
   "metadata": {},
   "source": [
    "### Agent 학습시키기"
   ]
  },
  {
   "cell_type": "code",
   "execution_count": 269,
   "metadata": {
    "scrolled": false
   },
   "outputs": [
    {
     "name": "stdout",
     "output_type": "stream",
     "text": [
      "Running reward for the 4 arms of the bandit: [-1.  0.  0.  0.]\n",
      "Running reward for the 4 arms of the bandit: [ 2. -1. -4.  4.]\n",
      "Running reward for the 4 arms of the bandit: [ 5.  2. -6. 14.]\n",
      "Running reward for the 4 arms of the bandit: [ 2. -2. -2. 27.]\n",
      "Running reward for the 4 arms of the bandit: [-5. -3.  2. 37.]\n",
      "Running reward for the 4 arms of the bandit: [-4.  0.  4. 53.]\n",
      "Running reward for the 4 arms of the bandit: [-7.  6.  8. 60.]\n",
      "Running reward for the 4 arms of the bandit: [-5.  5.  9. 66.]\n",
      "Running reward for the 4 arms of the bandit: [-5.  2.  2. 74.]\n",
      "Running reward for the 4 arms of the bandit: [-6. -1.  3. 85.]\n",
      "Running reward for the 4 arms of the bandit: [-9. -6. 11. 91.]\n",
      "Running reward for the 4 arms of the bandit: [-13.  -7.  15.  96.]\n",
      "Running reward for the 4 arms of the bandit: [-13.  -1.  20. 107.]\n",
      "Running reward for the 4 arms of the bandit: [-17.   5.  22. 119.]\n",
      "Running reward for the 4 arms of the bandit: [-21.   3.  24. 133.]\n",
      "Running reward for the 4 arms of the bandit: [-25.   4.  30. 148.]\n",
      "Running reward for the 4 arms of the bandit: [-26.   3.  37. 161.]\n",
      "Running reward for the 4 arms of the bandit: [-24.   2.  38. 175.]\n",
      "Running reward for the 4 arms of the bandit: [-17.   1.  44. 177.]\n",
      "Running reward for the 4 arms of the bandit: [-12.  -3.  45. 187.]\n",
      "\n",
      " The agent thinks arm 4 is the most promissing...\n",
      "...and it was right!\n"
     ]
    }
   ],
   "source": [
    "# Agent를 학습시킬 총 에피소드의 수를 설정한다.\n",
    "total_episodes = 1000\n",
    "\n",
    "# 벤딧 손잡이에 대한 점수판을 0으로 설정\n",
    "total_reward = np.zeros(num_arms)\n",
    "\n",
    "init = tf.global_variables_initializer()\n",
    "\n",
    "# 텐서플로 그래프 론칭\n",
    "with tf.Session() as sess:\n",
    "    sess.run(init)\n",
    "    i = 0\n",
    "    while i < total_episodes:\n",
    "        # 볼츠만 분포에 따라 액션 선택\n",
    "        actions = sess.run(output)\n",
    "        a = np.random.choice(actions, p = actions)  # 선택 확률을 다르게 해서 1개 선택\n",
    "        action = np.argmax(actions == a)            # 해당 index 출력\n",
    "        \n",
    "        \n",
    "        # 벤딧 손잡이 중 하나를 선택함으로써 보상을 받는다.\n",
    "        reward = pullBandit(bandit_arms[action])  # [0.2, 0, -0.2, -1][index]를 통해 난수보다 작으면 1 크면 -1 받음\n",
    "        \n",
    "        \n",
    "        # 네트워크를 업데이트 한다.\n",
    "        _, resp, ww = sess.run([update, responsible_output, weights], feed_dict = {reward_holder:[reward], action_holder:[action]})\n",
    "\n",
    "        \n",
    "        # 보상의 총계 업데이트\n",
    "        total_reward[action] += reward\n",
    "        if i%50 == 0:\n",
    "            print(\"Running reward for the \" + str(num_arms) + \" arms of the bandit: \" + str(total_reward))\n",
    "#            print(\"가중치 변화 : \",ww)\n",
    "#            print(\"resp : \", resp)\n",
    "        i+=1\n",
    "        \n",
    "        \n",
    "print(\"\\n The agent thinks arm \" + str(np.argmax(ww)+1) +\" is the most promissing...\")\n",
    "\n",
    "\n",
    "if np.argmax(ww) == np.argmax(-np.array(bandit_arms)):\n",
    "    print(\"...and it was right!\")\n",
    "else:\n",
    "    print(\"...and it was wrong!\")"
   ]
  }
 ],
 "metadata": {
  "kernelspec": {
   "display_name": "Python 3",
   "language": "python",
   "name": "python3"
  },
  "language_info": {
   "codemirror_mode": {
    "name": "ipython",
    "version": 3
   },
   "file_extension": ".py",
   "mimetype": "text/x-python",
   "name": "python",
   "nbconvert_exporter": "python",
   "pygments_lexer": "ipython3",
   "version": "3.6.8"
  }
 },
 "nbformat": 4,
 "nbformat_minor": 2
}
