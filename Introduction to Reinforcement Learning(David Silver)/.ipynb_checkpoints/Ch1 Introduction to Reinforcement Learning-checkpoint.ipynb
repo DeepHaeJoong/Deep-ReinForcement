{
 "cells": [
  {
   "cell_type": "markdown",
   "metadata": {},
   "source": [
    "### Major Components of an RL Agent\n",
    "\n",
    "#### An RL agent may include one or more of these components: \n",
    "- **Policy**: agent’s behaviour function \n",
    "- **Value function**: how good is each state and/or action \n",
    "- **Model**: agent’s representation of the environment\n"
   ]
  },
  {
   "cell_type": "markdown",
   "metadata": {},
   "source": [
    "### Policy\n",
    "\n",
    "- A policy is the agent’s behaviour\n",
    "- It is a map from state to action, e.g. \n",
    "    - Deterministic policy: $\\text{a} = \\pi(s)$ \n",
    "    - Stochastic policy: $\\pi(\\text{a}|s) = P[A_t = \\text{a}|S_t = s]$"
   ]
  },
  {
   "cell_type": "markdown",
   "metadata": {},
   "source": [
    "### Value function\n",
    "\n",
    "- Value function is a prediction of future reward \n",
    "- Used to evaluate the goodness/badness of states \n",
    "- And therefore to select between actions, e.g.\n",
    "$$\n",
    "\\text{v}_\\pi(s) = \\mathbb{E}_\\pi[R_{t+1} + \\gamma R_{t+2} + \t\\gamma^2 R_{t+2} + \\ldots| S_t = s ] \n",
    "$$"
   ]
  },
  {
   "cell_type": "markdown",
   "metadata": {},
   "source": [
    "$$\n",
    "Q^{*}(s, \\text{a})\n",
    "$$"
   ]
  },
  {
   "cell_type": "markdown",
   "metadata": {},
   "source": [
    "### Model\n",
    "\n",
    "- A model predicts what the environment will do next \n",
    "- $\\mathcal{P}$ predicts the next state [다음 상태를 예측]\n",
    "- $\\mathcal{R}$ predicts the next (immediate) reward, [다음 (즉각적인) 보상을 예측]e.g. \n",
    "\n",
    "$$\n",
    "\\mathcal{P}^{\\text{a}}_{ss'} = \\mathbb{P}_\\pi[S_{t+1} = s'| S_t = s, A_t = \\text{a} ] \\\\\n",
    "\\mathcal{R}^{\\text{a}}_{s} = \\mathbb{E}_\\pi[R_{t+1} | S_t = s, A_t = \\text{a} ]\n",
    "$$"
   ]
  },
  {
   "cell_type": "code",
   "execution_count": null,
   "metadata": {},
   "outputs": [],
   "source": []
  },
  {
   "cell_type": "markdown",
   "metadata": {},
   "source": []
  }
 ],
 "metadata": {
  "kernelspec": {
   "display_name": "Python 3",
   "language": "python",
   "name": "python3"
  },
  "language_info": {
   "codemirror_mode": {
    "name": "ipython",
    "version": 3
   },
   "file_extension": ".py",
   "mimetype": "text/x-python",
   "name": "python",
   "nbconvert_exporter": "python",
   "pygments_lexer": "ipython3",
   "version": "3.6.4"
  }
 },
 "nbformat": 4,
 "nbformat_minor": 2
}
