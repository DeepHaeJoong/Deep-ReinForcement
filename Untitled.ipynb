{
 "cells": [
  {
   "cell_type": "markdown",
   "metadata": {},
   "source": [
    "| **구성** | **값** | **비고** |  \n",
    "|------------------|----------------------------------------------------------------------------|--------| \n",
    "| **State** | 온도, 습도, VOC, 먼지, 시간                 | 환경 정보 |\n",
    "| **Action**| 송풍기 설비 가동                            | 환경 설정 |\n",
    "| **Reward**| $W$ * $순시전력$ - ($1$-$W$)*$환경 지표$ | 가중치 ($W$) : 0.0 ~ 1.0 |"
   ]
  },
  {
   "cell_type": "code",
   "execution_count": 3,
   "metadata": {},
   "outputs": [],
   "source": [
    "energy = {'fan_1' : 0, 'fan_2' : 1, 'fan_2' : 3}"
   ]
  },
  {
   "cell_type": "code",
   "execution_count": 4,
   "metadata": {},
   "outputs": [],
   "source": [
    "dust = {'dust_1' : 23, 'dust_2' : 23}"
   ]
  },
  {
   "cell_type": "code",
   "execution_count": 5,
   "metadata": {
    "scrolled": true
   },
   "outputs": [
    {
     "data": {
      "text/plain": [
       "23"
      ]
     },
     "execution_count": 5,
     "metadata": {},
     "output_type": "execute_result"
    }
   ],
   "source": [
    "dust['dust_1'] = 'dfdfdfdf'"
   ]
  }
 ],
 "metadata": {
  "kernelspec": {
   "display_name": "Python 3",
   "language": "python",
   "name": "python3"
  },
  "language_info": {
   "codemirror_mode": {
    "name": "ipython",
    "version": 3
   },
   "file_extension": ".py",
   "mimetype": "text/x-python",
   "name": "python",
   "nbconvert_exporter": "python",
   "pygments_lexer": "ipython3",
   "version": "3.6.8"
  }
 },
 "nbformat": 4,
 "nbformat_minor": 2
}
